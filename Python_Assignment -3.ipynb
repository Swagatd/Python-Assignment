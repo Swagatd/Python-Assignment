{
 "cells": [
  {
   "cell_type": "markdown",
   "metadata": {},
   "source": [
    "# Write a function to compute 5/0 and use try/except to catch the exceptions."
   ]
  },
  {
   "cell_type": "code",
   "execution_count": 3,
   "metadata": {},
   "outputs": [
    {
     "name": "stdout",
     "output_type": "stream",
     "text": [
      "You can't divide by zero!\n"
     ]
    }
   ],
   "source": [
    "try:\n",
    "    print (5/0)\n",
    "\n",
    "except ZeroDivisionError:\n",
    "    print (\"You can't divide by zero!\")\n",
    "    "
   ]
  },
  {
   "cell_type": "markdown",
   "metadata": {},
   "source": [
    "# 2.Implement a Python program to generate all sentences where subject is in [\"Americans\",\"Indians\"] and verb is in [\"Play\", \"watch\"] and the object is in [\"Baseball\",\"cricket\"]."
   ]
  },
  {
   "cell_type": "code",
   "execution_count": 12,
   "metadata": {},
   "outputs": [
    {
     "name": "stdout",
     "output_type": "stream",
     "text": [
      "Americans  play Baseball\n",
      "Americans  play Cricket\n",
      "Americans  watch Baseball\n",
      "Americans  watch Cricket\n",
      "Indians play Baseball\n",
      "Indians play Cricket\n",
      "Indians watch Baseball\n",
      "Indians watch Cricket\n"
     ]
    }
   ],
   "source": [
    "subjects=[\"Americans \",\"Indians\"]\n",
    "verbs=[\"play\",\"watch\"]\n",
    "objects=[\"Baseball\",\"Cricket\"]\n",
    "n=0\n",
    "for i in subjects:\n",
    "    \n",
    "    for j in verbs :\n",
    "        \n",
    "        for k in objects :\n",
    "            \n",
    "            print(i+\" \"+j+\" \"+k)\n",
    "            \n",
    "            "
   ]
  },
  {
   "cell_type": "markdown",
   "metadata": {},
   "source": [
    "# 1.Write a function so that the columns of the output matrix are powers of the input vector.The order of the powers is determined by the increasing boolean argument. Specifically, whenincreasing is False, the i-th output column is the input vector raised element-wise to the powerof N - i - 1."
   ]
  },
  {
   "cell_type": "code",
   "execution_count": 9,
   "metadata": {},
   "outputs": [
    {
     "name": "stdout",
     "output_type": "stream",
     "text": [
      "The input matrix is : [1 2 3 4 5] \n",
      "\n",
      "The no of column in output  matrix is : 4 \n",
      "\n",
      "The output matrix in descending order is :\n",
      "\n",
      " [[  1   1   1   1]\n",
      " [  8   4   2   1]\n",
      " [ 27   9   3   1]\n",
      " [ 64  16   4   1]\n",
      " [125  25   5   1]] \n",
      "\n",
      "The output matrix in ascending order is :\n",
      "\n",
      " [[  1   1   1   1]\n",
      " [  1   2   4   8]\n",
      " [  1   3   9  27]\n",
      " [  1   4  16  64]\n",
      " [  1   5  25 125]] \n",
      "\n"
     ]
    }
   ],
   "source": [
    "import numpy as np\n",
    "\n",
    "def vandermode(ivector,n,increasing = False) :\n",
    "\n",
    " #iterate over each number in input vector for n times. Where n is the no of column in the output matrix.\n",
    "\n",
    " #Use two separate condtions based on which order output matrix is needed.\n",
    "    \n",
    " #Finally reshape the matrix using size of input matrix (rows) and n (no of cols) to create output\n",
    "    \n",
    "    if not increasing :\n",
    "        omatrix = np.array([x**(n-i-1) for x in ivector for i in range (n)]).reshape(ivector.size,n)\n",
    "        \n",
    "    elif increasing :\n",
    "        \n",
    "        omatrix = np.array([x**(i) for x in ivector for i in range (n)]).reshape(ivector.size,n)\n",
    "        \n",
    "    return omatrix\n",
    "\n",
    "inputvector = np.array([1,2,3,4,5])\n",
    "\n",
    "no_col_omatrix = 4\n",
    "\n",
    "omatrix_desc_order = vandermode (inputvector,no_col_omatrix,False)\n",
    "\n",
    "omatrix_asc_order = vandermode (inputvector,no_col_omatrix,True)\n",
    "\n",
    "print(\"The input matrix is :\" ,inputvector ,\"\\n\")\n",
    "\n",
    "print(\"The no of column in output  matrix is :\" ,no_col_omatrix,\"\\n\")\n",
    "\n",
    "print(\"The output matrix in descending order is :\\n\\n\" ,omatrix_desc_order,\"\\n\" )\n",
    "\n",
    "print(\"The output matrix in ascending order is :\\n\\n\" ,omatrix_asc_order,\"\\n\" )\n"
   ]
  },
  {
   "cell_type": "code",
   "execution_count": null,
   "metadata": {},
   "outputs": [],
   "source": []
  }
 ],
 "metadata": {
  "kernelspec": {
   "display_name": "Python 3",
   "language": "python",
   "name": "python3"
  },
  "language_info": {
   "codemirror_mode": {
    "name": "ipython",
    "version": 3
   },
   "file_extension": ".py",
   "mimetype": "text/x-python",
   "name": "python",
   "nbconvert_exporter": "python",
   "pygments_lexer": "ipython3",
   "version": "3.7.4"
  }
 },
 "nbformat": 4,
 "nbformat_minor": 2
}
